{
 "cells": [
  {
   "cell_type": "code",
   "execution_count": 5,
   "id": "d28bf0b5",
   "metadata": {},
   "outputs": [
    {
     "data": {
      "text/html": [
       "<div>\n",
       "<style scoped>\n",
       "    .dataframe tbody tr th:only-of-type {\n",
       "        vertical-align: middle;\n",
       "    }\n",
       "\n",
       "    .dataframe tbody tr th {\n",
       "        vertical-align: top;\n",
       "    }\n",
       "\n",
       "    .dataframe thead th {\n",
       "        text-align: right;\n",
       "    }\n",
       "</style>\n",
       "<table border=\"1\" class=\"dataframe\">\n",
       "  <thead>\n",
       "    <tr style=\"text-align: right;\">\n",
       "      <th></th>\n",
       "      <th>User ID</th>\n",
       "      <th>Gender</th>\n",
       "      <th>Age</th>\n",
       "      <th>EstimatedSalary</th>\n",
       "      <th>Purchased</th>\n",
       "    </tr>\n",
       "  </thead>\n",
       "  <tbody>\n",
       "    <tr>\n",
       "      <th>0</th>\n",
       "      <td>15624510</td>\n",
       "      <td>Male</td>\n",
       "      <td>19</td>\n",
       "      <td>19000</td>\n",
       "      <td>0</td>\n",
       "    </tr>\n",
       "    <tr>\n",
       "      <th>1</th>\n",
       "      <td>15810944</td>\n",
       "      <td>Male</td>\n",
       "      <td>35</td>\n",
       "      <td>20000</td>\n",
       "      <td>0</td>\n",
       "    </tr>\n",
       "    <tr>\n",
       "      <th>2</th>\n",
       "      <td>15668575</td>\n",
       "      <td>Female</td>\n",
       "      <td>26</td>\n",
       "      <td>43000</td>\n",
       "      <td>0</td>\n",
       "    </tr>\n",
       "    <tr>\n",
       "      <th>3</th>\n",
       "      <td>15603246</td>\n",
       "      <td>Female</td>\n",
       "      <td>27</td>\n",
       "      <td>57000</td>\n",
       "      <td>0</td>\n",
       "    </tr>\n",
       "    <tr>\n",
       "      <th>4</th>\n",
       "      <td>15804002</td>\n",
       "      <td>Male</td>\n",
       "      <td>19</td>\n",
       "      <td>76000</td>\n",
       "      <td>0</td>\n",
       "    </tr>\n",
       "  </tbody>\n",
       "</table>\n",
       "</div>"
      ],
      "text/plain": [
       "    User ID  Gender  Age  EstimatedSalary  Purchased\n",
       "0  15624510    Male   19            19000          0\n",
       "1  15810944    Male   35            20000          0\n",
       "2  15668575  Female   26            43000          0\n",
       "3  15603246  Female   27            57000          0\n",
       "4  15804002    Male   19            76000          0"
      ]
     },
     "execution_count": 5,
     "metadata": {},
     "output_type": "execute_result"
    }
   ],
   "source": [
    "# importing libraries\n",
    "import numpy as np\n",
    "import pandas as pd\n",
    "import matplotlib.pyplot as plt\n",
    "from sklearn.model_selection import train_test_split\n",
    "from math import exp\n",
    "plt.rcParams['figure.figsize'] = (10,6)\n",
    "\n",
    "#load the dataset\n",
    "data = pd.read_csv('Social_Network_Ads.csv')\n",
    "data.head()"
   ]
  },
  {
   "cell_type": "code",
   "execution_count": 40,
   "id": "d6250208",
   "metadata": {},
   "outputs": [],
   "source": [
    "#We will predicting Purchased as y 0/1\n",
    "#We will be choosing Age as feature X"
   ]
  },
  {
   "cell_type": "code",
   "execution_count": 6,
   "id": "597714ec",
   "metadata": {
    "code_folding": []
   },
   "outputs": [
    {
     "data": {
      "image/png": "[encoded data removed]",
      "text/plain": [
       "<Figure size 720x432 with 1 Axes>"
      ]
     },
     "metadata": {
      "needs_background": "light"
     },
     "output_type": "display_data"
    }
   ],
   "source": [
    "#Visualizing the dataset\n",
    "plt.scatter(data['Age'], data['Purchased'])\n",
    "plt.show()\n",
    "\n",
    "#DEviding the data to training and testing sets\n",
    "X_train, X_test, y_train, y_test = train_test_split(data['Age'], data['Purchased'], test_size=0.20)"
   ]
  },
  {
   "cell_type": "code",
   "execution_count": 15,
   "id": "0d4ffa12",
   "metadata": {},
   "outputs": [],
   "source": [
    "#Creating the logistic regression model\n",
    "\n",
    "#Helper function to normalize data\n",
    "def normalize(X):\n",
    "    return X - X.mean()\n",
    "\n",
    "#method to make prediction\n",
    "def predict(X,b0,b1):\n",
    "    return np.array([1 / (1 + exp(-1*b0 + -1*b1*x)) for x in X])\n",
    "\n",
    "#Method to train the model\n",
    "def logistic_regression(X,Y):\n",
    "    X = normalize(X)\n",
    "    b0 = 0\n",
    "    b1 = 0\n",
    "    L = 0.001\n",
    "    epochs = 150\n",
    "    for epoch in range(epochs):\n",
    "        y_pred = predict(X, b0, b1)\n",
    "        D_b0 = -2 * sum((Y - y_pred) * y_pred * (1 - y_pred))\n",
    "        D_b1 = -2 * sum((Y - y_pred) * y_pred * (1 - y_pred) * X)\n",
    "            \n",
    "        b0 = b0 - (L * D_b0)\n",
    "        b1 = b1 - (L * D_b1)\n",
    "    return b0, b1"
   ]
  },
  {
   "cell_type": "code",
   "execution_count": 16,
   "id": "3a58d1c2",
   "metadata": {},
   "outputs": [
    {
     "name": "stdout",
     "output_type": "stream",
     "text": [
      "Accuracy = 0.5625\n"
     ]
    },
    {
     "data": {
      "image/png": "[encoded data removed]",
      "text/plain": [
       "<Figure size 720x432 with 1 Axes>"
      ]
     },
     "metadata": {
      "needs_background": "light"
     },
     "output_type": "display_data"
    }
   ],
   "source": [
    "#train the data\n",
    "b0, b1 = logistic_regression(X_train, y_train)\n",
    "\n",
    "X_test = X_test.sort_values()\n",
    "X_test_norm = normalize(X_test)\n",
    "y_pred = predict(X_test_norm, b0, b1)\n",
    "y_pred = [1 if p >= 0.5 else 0 for p in y_pred]\n",
    "\n",
    "\n",
    "plt.clf()\n",
    "plt.scatter(X_test, y_test)\n",
    "plt.scatter(X_test, y_pred, color='green')\n",
    "plt.plot(X_test, y_pred, c=\"red\") # Only if values are sorted\n",
    "\n",
    "#Accuracy\n",
    "accuracy = 0\n",
    "for i in range(len(y_pred)):\n",
    "    if y_pred[i] == y_test.iloc[i]:\n",
    "        accuracy+= 1\n",
    "print(f\"Accuracy = {accuracy / len(y_pred)}\")"
   ]
  },
  {
   "cell_type": "code",
   "execution_count": 21,
   "id": "dcc5824c",
   "metadata": {},
   "outputs": [
    {
     "name": "stderr",
     "output_type": "stream",
     "text": [
      "C:\\Users\\Udit\\anaconda3\\lib\\site-packages\\sklearn\\utils\\validation.py:63: DataConversionWarning: A column-vector y was passed when a 1d array was expected. Please change the shape of y to (n_samples, ), for example using ravel().\n",
      "  return f(*args, **kwargs)\n"
     ]
    },
    {
     "data": {
      "image/png": "[encoded data removed]",
      "text/plain": [
       "<Figure size 720x432 with 1 Axes>"
      ]
     },
     "metadata": {
      "needs_background": "light"
     },
     "output_type": "display_data"
    },
    {
     "name": "stdout",
     "output_type": "stream",
     "text": [
      "Accuracy = 0.5625\n"
     ]
    }
   ],
   "source": [
    "#making prediction using sklearn\n",
    "from sklearn.linear_model import LogisticRegression\n",
    "\n",
    "#create instance and fit the model\n",
    "lr_model = LogisticRegression()\n",
    "lr_model.fit(X_train.values.reshape(-1,1), y_train.values.reshape(-1,1))\n",
    "\n",
    "#Making the prediction model\n",
    "y_pred_sk = lr_model.predict(X_test.values.reshape(-1,1))\n",
    "\n",
    "#Plotting the graph\n",
    "plt.clf()\n",
    "plt.scatter(X_test, y_pred_sk, c=\"red\")\n",
    "plt.plot(X_test, y_pred_sk, c=\"green\")\n",
    "plt.show()\n",
    "\n",
    "#accuracy\n",
    "print(f\"Accuracy = {lr_model.score(X_test.values.reshape(-1,1), y_test.values.reshape(-1,1))}\")"
   ]
  },
  {
   "cell_type": "code",
   "execution_count": null,
   "id": "57515266",
   "metadata": {},
   "outputs": [],
   "source": []
  }
 ],
 "metadata": {
  "kernelspec": {
   "display_name": "Python 3",
   "language": "python",
   "name": "python3"
  },
  "language_info": {
   "codemirror_mode": {
    "name": "ipython",
    "version": 3
   },
   "file_extension": ".py",
   "mimetype": "text/x-python",
   "name": "python",
   "nbconvert_exporter": "python",
   "pygments_lexer": "ipython3",
   "version": "3.8.8"
  },
  "latex_envs": {
   "LaTeX_envs_menu_present": true,
   "autoclose": false,
   "autocomplete": true,
   "bibliofile": "biblio.bib",
   "cite_by": "apalike",
   "current_citInitial": 1,
   "eqLabelWithNumbers": true,
   "eqNumInitial": 1,
   "hotkeys": {
    "equation": "Ctrl-E",
    "itemize": "Ctrl-I"
   },
   "labels_anchors": false,
   "latex_user_defs": false,
   "report_style_numbering": false,
   "user_envs_cfg": false
  }
 },
 "nbformat": 4,
 "nbformat_minor": 5
}
